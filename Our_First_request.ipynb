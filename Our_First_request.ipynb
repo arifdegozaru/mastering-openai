{
 "cells": [
  {
   "cell_type": "markdown",
   "id": "dc2c0f07-0144-4573-a862-6550780248fc",
   "metadata": {},
   "source": [
    "## Install Dependency"
   ]
  },
  {
   "cell_type": "code",
   "execution_count": 1,
   "id": "32a5f78c",
   "metadata": {},
   "outputs": [
    {
     "name": "stdout",
     "output_type": "stream",
     "text": [
      "Defaulting to user installation because normal site-packages is not writeable\n",
      "Requirement already satisfied: openai in c:\\users\\arif_h667\\appdata\\roaming\\python\\python311\\site-packages (1.0.0)\n",
      "Requirement already satisfied: python-dotenv in c:\\programdata\\anaconda3\\lib\\site-packages (0.21.0)\n",
      "Requirement already satisfied: anyio<4,>=3.5.0 in c:\\users\\arif_h667\\appdata\\roaming\\python\\python311\\site-packages (from openai) (3.7.1)\n",
      "Requirement already satisfied: distro<2,>=1.7.0 in c:\\programdata\\anaconda3\\lib\\site-packages (from openai) (1.8.0)\n",
      "Requirement already satisfied: httpx<1,>=0.23.0 in c:\\programdata\\anaconda3\\lib\\site-packages (from openai) (0.26.0)\n",
      "Requirement already satisfied: pydantic<3,>=1.9.0 in c:\\programdata\\anaconda3\\lib\\site-packages (from openai) (1.10.12)\n",
      "Requirement already satisfied: tqdm>4 in c:\\programdata\\anaconda3\\lib\\site-packages (from openai) (4.65.0)\n",
      "Requirement already satisfied: typing-extensions<5,>=4.5 in c:\\programdata\\anaconda3\\lib\\site-packages (from openai) (4.9.0)\n",
      "Requirement already satisfied: idna>=2.8 in c:\\programdata\\anaconda3\\lib\\site-packages (from anyio<4,>=3.5.0->openai) (3.4)\n",
      "Requirement already satisfied: sniffio>=1.1 in c:\\programdata\\anaconda3\\lib\\site-packages (from anyio<4,>=3.5.0->openai) (1.3.0)\n",
      "Requirement already satisfied: certifi in c:\\programdata\\anaconda3\\lib\\site-packages (from httpx<1,>=0.23.0->openai) (2024.6.2)\n",
      "Requirement already satisfied: httpcore==1.* in c:\\programdata\\anaconda3\\lib\\site-packages (from httpx<1,>=0.23.0->openai) (1.0.2)\n",
      "Requirement already satisfied: h11<0.15,>=0.13 in c:\\programdata\\anaconda3\\lib\\site-packages (from httpcore==1.*->httpx<1,>=0.23.0->openai) (0.14.0)\n",
      "Requirement already satisfied: colorama in c:\\programdata\\anaconda3\\lib\\site-packages (from tqdm>4->openai) (0.4.6)\n"
     ]
    }
   ],
   "source": [
    "!pip install openai python-dotenv"
   ]
  },
  {
   "cell_type": "code",
   "execution_count": null,
   "id": "9a8b089b",
   "metadata": {},
   "outputs": [],
   "source": [
    "!pip show openai python-dotenv"
   ]
  },
  {
   "cell_type": "markdown",
   "id": "fdef2f89-93f7-4fee-bc78-23fcfdcb69d2",
   "metadata": {},
   "source": [
    "## Load .env config"
   ]
  },
  {
   "cell_type": "code",
   "execution_count": 3,
   "id": "7194570e-0ba0-4546-add2-bfedd4c60cf2",
   "metadata": {},
   "outputs": [],
   "source": [
    "from dotenv import dotenv_values\n",
    "\n",
    "config = dotenv_values(\"env\")"
   ]
  },
  {
   "cell_type": "markdown",
   "id": "914d56c4-4f86-44a5-99e1-a6a7b78e8f28",
   "metadata": {},
   "source": [
    "## Init OpenAI"
   ]
  },
  {
   "cell_type": "code",
   "execution_count": 4,
   "id": "9363c188-4c85-478e-970c-27f4a9825bd1",
   "metadata": {},
   "outputs": [],
   "source": [
    "import os\n",
    "from openai import OpenAI\n",
    "\n",
    "client = OpenAI(\n",
    "    api_key=config[\"OPENAI_API\"],\n",
    ")"
   ]
  },
  {
   "cell_type": "markdown",
   "id": "e26baf09-9662-442a-8c0c-88b6c69de39a",
   "metadata": {},
   "source": [
    "## init LM Studio Usage"
   ]
  },
  {
   "cell_type": "code",
   "id": "b2b0f743-11a2-441e-af6f-24ef275b9032",
   "metadata": {
    "ExecuteTime": {
     "end_time": "2024-07-22T13:54:23.787890Z",
     "start_time": "2024-07-22T13:54:21.129301Z"
    }
   },
   "source": [
    "from openai import OpenAI\n",
    "\n",
    "client = OpenAI(\n",
    "    base_url=\"http://localhost:1234/v1\",\n",
    "    api_key=\"lm-studio\",\n",
    ")"
   ],
   "outputs": [],
   "execution_count": 1
  },
  {
   "cell_type": "markdown",
   "id": "7fbb465a-d637-4724-ac74-9cba9546f9d5",
   "metadata": {},
   "source": [
    "## Call Chat Completion"
   ]
  },
  {
   "cell_type": "code",
   "execution_count": 4,
   "id": "287624e2-577d-4caf-ac2d-d5f689c6f205",
   "metadata": {},
   "outputs": [],
   "source": [
    "chat_completion = client.chat.completions.create(\n",
    "    messages=[\n",
    "        {\n",
    "            \"role\": \"user\", \"content\": \"who is jokowi?\",\n",
    "        }\n",
    "    ],\n",
    "    model=\"gpt-3.5-turbo\"\n",
    ")"
   ]
  },
  {
   "cell_type": "markdown",
   "id": "071434cd-7e43-4995-8856-539151796a1c",
   "metadata": {},
   "source": [
    "## Print result"
   ]
  },
  {
   "cell_type": "code",
   "execution_count": 5,
   "id": "65c47052",
   "metadata": {},
   "outputs": [
    {
     "name": "stdout",
     "output_type": "stream",
     "text": [
      "ChatCompletion(id='chatcmpl-j2yjfabetecr55k10ehbt', choices=[Choice(finish_reason='stop', index=0, logprobs=None, message=ChatCompletionMessage(content='Jokowi, also known as Jokerman, is a Ugandan comedian, actor, and television presenter. He is best known for his dark humor and satirical commentary on Ugandan culture, politics, and society.', role='assistant', function_call=None, tool_calls=None))], created=1721562551, model='lmstudio-ai/gemma-2b-it-GGUF/gemma-2b-it-q4_k_m.gguf', object='chat.completion', service_tier=None, system_fingerprint=None, usage=CompletionUsage(completion_tokens=40, prompt_tokens=31, total_tokens=71))\n"
     ]
    }
   ],
   "source": [
    "print(chat_completion)\n",
    "# print(chat_completion.choices[0].message.content)"
   ]
  },
  {
   "cell_type": "markdown",
   "id": "acf02ba5-c71a-4697-9d4e-bd8e61394427",
   "metadata": {},
   "source": [
    "## Stream Chat Completion"
   ]
  },
  {
   "cell_type": "code",
   "execution_count": 2,
   "id": "a6b30acf-f041-45a3-a85c-23f2a7cd8753",
   "metadata": {},
   "outputs": [
    {
     "name": "stdout",
     "output_type": "stream",
     "text": [
      "Jokowi is a famous Polish comedian, musician and actor. He has appeared in several films and TV shows, and is known for his humorous and witty style of comedy.None"
     ]
    }
   ],
   "source": [
    "for data in client.chat.completions.create(\n",
    "    messages=[\n",
    "        {\n",
    "            \"role\": \"user\", \"content\": \"who is jokowi?\",\n",
    "        }\n",
    "    ],\n",
    "    model=\"gpt-3.5-turbo\",\n",
    "    stream=True\n",
    "):\n",
    "#     print(data)\n",
    "    print(data.choices[0].delta.content, end=\"\", flush=True)"
   ]
  },
  {
   "cell_type": "code",
   "execution_count": null,
   "id": "371e5202-19c0-496d-8183-b7df2e526197",
   "metadata": {},
   "outputs": [],
   "source": []
  }
 ],
 "metadata": {
  "kernelspec": {
   "display_name": "Python 3 (ipykernel)",
   "language": "python",
   "name": "python3"
  },
  "language_info": {
   "codemirror_mode": {
    "name": "ipython",
    "version": 3
   },
   "file_extension": ".py",
   "mimetype": "text/x-python",
   "name": "python",
   "nbconvert_exporter": "python",
   "pygments_lexer": "ipython3",
   "version": "3.11.9"
  }
 },
 "nbformat": 4,
 "nbformat_minor": 5
}
